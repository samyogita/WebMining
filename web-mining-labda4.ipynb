{
 "cells": [
  {
   "cell_type": "markdown",
   "id": "04c5a599",
   "metadata": {},
   "source": [
    "### Question 1\n",
    "\n",
    "#### Collect strings from the following documents and create a corpus containing strings from documents d1, d2, and d3.\n"
   ]
  },
  {
   "cell_type": "code",
   "execution_count": 1,
   "id": "781bc6ff",
   "metadata": {},
   "outputs": [
    {
     "name": "stdout",
     "output_type": "stream",
     "text": [
      "\n",
      " Word indexes:\n",
      "{'vit': 2, 'vellore': 1, 'universities': 0, 'web': 3}\n",
      "\n",
      "tf-idf values: \n",
      "  (0, 0)\t0.6227660078332259\n",
      "  (0, 1)\t0.6227660078332259\n",
      "  (0, 2)\t0.4736296010332684\n",
      "  (1, 2)\t1.0\n",
      "  (2, 3)\t1.0\n"
     ]
    }
   ],
   "source": [
    "import sklearn\n",
    "from sklearn.feature_extraction.text import TfidfVectorizer\n",
    "\n",
    "d1 = 'VIT Vellore Universities'\n",
    "d2 = 'VIT'\n",
    "d3 = 'Web'\n",
    "string = [d1, d2, d3]\n",
    "\n",
    "tfidf = TfidfVectorizer()\n",
    "\n",
    "result = tfidf.fit_transform(string)\n",
    "\n",
    "print('\\n Word indexes:')\n",
    "print(tfidf.vocabulary_)\n",
    "\n",
    "print(\"\\ntf-idf values: \")\n",
    "print(result)"
   ]
  },
  {
   "cell_type": "markdown",
   "id": "20f7e06e",
   "metadata": {},
   "source": [
    "### Question 2\n",
    "#### Elias Delta Encoding and Decoding for a given number"
   ]
  },
  {
   "cell_type": "code",
   "execution_count": 2,
   "id": "c5855c58",
   "metadata": {},
   "outputs": [
    {
     "name": "stdout",
     "output_type": "stream",
     "text": [
      "Enter the number for encoding: 6\n",
      "The encoded code is:  01110\n",
      "The decoded code is:  6\n"
     ]
    }
   ],
   "source": [
    "from math import log \n",
    "from math import floor\n",
    "import math\n",
    "def EliasDeltaEncodingDecoding():\n",
    "    x = int(input(\"Enter the number for encoding: \"))\n",
    "    N = math.floor(math.log(x,2))\n",
    "    L = math.floor(math.log(N+1,2))\n",
    "    code ='0'*L\n",
    "    b = bin(N+1)[2:]\n",
    "    ls = bin(x)[2:]\n",
    "    ls = ls[len(ls)-N:]\n",
    "    code =code + b + ls\n",
    "    print(\"The encoded code is: \", code)\n",
    "    L =len(code.split('1')[0])\n",
    "    N = int(code[:2*L+1],2)-1\n",
    "    r=int(code[len(code)-N:],2)\n",
    "    x=2**N+r\n",
    "    print(\"The decoded code is: \", x)\n",
    "\n",
    "EliasDeltaEncodingDecoding()"
   ]
  },
  {
   "cell_type": "code",
   "execution_count": null,
   "id": "64abb157",
   "metadata": {},
   "outputs": [],
   "source": []
  }
 ],
 "metadata": {
  "kernelspec": {
   "display_name": "Python 3 (ipykernel)",
   "language": "python",
   "name": "python3"
  },
  "language_info": {
   "codemirror_mode": {
    "name": "ipython",
    "version": 3
   },
   "file_extension": ".py",
   "mimetype": "text/x-python",
   "name": "python",
   "nbconvert_exporter": "python",
   "pygments_lexer": "ipython3",
   "version": "3.9.7"
  }
 },
 "nbformat": 4,
 "nbformat_minor": 5
}
