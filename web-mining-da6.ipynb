{
 "cells": [
  {
   "cell_type": "markdown",
   "id": "eb266646",
   "metadata": {},
   "source": [
    "### Create a Python programme to implement the decision tree and print the accuracy percentage, precision, recall and the predicted values."
   ]
  },
  {
   "cell_type": "markdown",
   "id": "ab2947a0",
   "metadata": {},
   "source": [
    "### Importing necessary modules\n"
   ]
  },
  {
   "cell_type": "code",
   "execution_count": 1,
   "id": "d26553be",
   "metadata": {},
   "outputs": [],
   "source": [
    "import pandas as pd\n",
    "import numpy as np\n",
    "from sklearn.datasets import load_iris\n",
    "from sklearn.tree import DecisionTreeClassifier\n",
    "from sklearn.metrics import accuracy_score, precision_score, recall_score, classification_report\n",
    "from sklearn.model_selection import train_test_split"
   ]
  },
  {
   "cell_type": "markdown",
   "id": "bb2916ae",
   "metadata": {},
   "source": [
    "### Loading the dataset "
   ]
  },
  {
   "cell_type": "code",
   "execution_count": 2,
   "id": "fe7182a1",
   "metadata": {},
   "outputs": [],
   "source": [
    "iris = load_iris()\n",
    "\n",
    "X = iris.data\n",
    "y = iris.target"
   ]
  },
  {
   "cell_type": "markdown",
   "id": "800d89ce",
   "metadata": {},
   "source": [
    "### Splitting the data into training and testing"
   ]
  },
  {
   "cell_type": "code",
   "execution_count": 3,
   "id": "d896eead",
   "metadata": {},
   "outputs": [],
   "source": [
    "X_train, X_test, y_train, y_test = train_test_split(X,y,test_size = 0.2, random_state = 101)"
   ]
  },
  {
   "cell_type": "markdown",
   "id": "27905d52",
   "metadata": {},
   "source": [
    "### Initializing the classifier and fiiting the data to the cassifier"
   ]
  },
  {
   "cell_type": "code",
   "execution_count": 4,
   "id": "5884c53e",
   "metadata": {},
   "outputs": [
    {
     "data": {
      "text/plain": [
       "DecisionTreeClassifier()"
      ]
     },
     "execution_count": 4,
     "metadata": {},
     "output_type": "execute_result"
    }
   ],
   "source": [
    "clf = DecisionTreeClassifier()\n",
    "clf.fit(X_train,y_train)"
   ]
  },
  {
   "cell_type": "markdown",
   "id": "24b01328",
   "metadata": {},
   "source": [
    "### Predicted values"
   ]
  },
  {
   "cell_type": "code",
   "execution_count": 5,
   "id": "122a861a",
   "metadata": {},
   "outputs": [
    {
     "name": "stdout",
     "output_type": "stream",
     "text": [
      "Predicted values: \n",
      "[0 0 0 1 1 2 1 1 2 0 2 0 0 2 2 1 1 1 0 2 1 0 1 1 1 1 1 2 0 0]\n"
     ]
    }
   ],
   "source": [
    "y_preds = clf.predict(X_test)\n",
    "print(\"Predicted values: \")\n",
    "print(y_preds)"
   ]
  },
  {
   "cell_type": "markdown",
   "id": "5515568f",
   "metadata": {},
   "source": [
    "### Accuracy percentage, precision, recall and classification report"
   ]
  },
  {
   "cell_type": "code",
   "execution_count": 6,
   "id": "c8bc445b",
   "metadata": {},
   "outputs": [
    {
     "name": "stdout",
     "output_type": "stream",
     "text": [
      "Accuracy: 96.67%\n",
      "Precision: 0.9692307692307692\n",
      "Recall: 0.9666666666666667\n",
      "              precision    recall  f1-score   support\n",
      "\n",
      "           0       1.00      1.00      1.00        10\n",
      "           1       0.92      1.00      0.96        12\n",
      "           2       1.00      0.88      0.93         8\n",
      "\n",
      "    accuracy                           0.97        30\n",
      "   macro avg       0.97      0.96      0.96        30\n",
      "weighted avg       0.97      0.97      0.97        30\n",
      "\n"
     ]
    }
   ],
   "source": [
    "print(f\"Accuracy: {accuracy_score(y_test, y_preds)*100:.2f}%\")\n",
    "print(f\"Precision: {precision_score(y_test, y_preds,average='weighted')}\")\n",
    "print(f\"Recall: {recall_score(y_test, y_preds,average='weighted')}\")\n",
    "print(classification_report(y_test, y_preds))"
   ]
  },
  {
   "cell_type": "code",
   "execution_count": null,
   "id": "b55c7115",
   "metadata": {},
   "outputs": [],
   "source": []
  }
 ],
 "metadata": {
  "kernelspec": {
   "display_name": "Python 3 (ipykernel)",
   "language": "python",
   "name": "python3"
  },
  "language_info": {
   "codemirror_mode": {
    "name": "ipython",
    "version": 3
   },
   "file_extension": ".py",
   "mimetype": "text/x-python",
   "name": "python",
   "nbconvert_exporter": "python",
   "pygments_lexer": "ipython3",
   "version": "3.9.7"
  }
 },
 "nbformat": 4,
 "nbformat_minor": 5
}
